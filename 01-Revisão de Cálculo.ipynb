{
 "cells": [
  {
   "cell_type": "markdown",
   "metadata": {},
   "source": [
    "# 1. Revisão de Cálculo\n"
   ]
  },
  {
   "cell_type": "markdown",
   "metadata": {},
   "source": [
    "Esta revisão começa por conceitos e definições básicas do cálculo. Neste sentido os conceitos de limite e continuidade são fundamentais. \n",
    "\n",
    "__Definição 1.1__: Uma função $f$ definida em um conjunto $X$ de números reais tem o __limite__ $L$ em $x_0$, que se representa como\n",
    "\n",
    "$$\\lim_{x\\rightarrow x_0} f(x) = L,$$\n",
    "\n",
    "se, dado qualquer número real $\\epsilon > 0$, existir um número real $\\delta > 0$ tal que $|f(x) - L| < \\epsilon $, sempre que $x \\in X$ e $0 < |x - x_0| < \\delta $\n",
    "\n",
    "![Limite de uma função](Figuras/Figura_1d1.png)"
   ]
  },
  {
   "cell_type": "markdown",
   "metadata": {},
   "source": [
    "__Definição 1.2__: Seja $f$ uma função definida no conjunto $X$ de números reais e $x_0 \\in X$. Então $f$ é __contínua__ em $x_0$ se \n",
    "\n",
    "$$\\lim_{x\\rightarrow x_0} f(x) = f(x_0).$$\n",
    "\n",
    "A função $f$ é contínua no conjunto $X$ se ela for contínua para cada valor de $X$.\n",
    "\n",
    "$C(X))$ representa o conjunto de todas as funções que são contínuas em $X$. Quando $X$ for um intervalo da reta representativa dos numeros reais, os parênteses na notação serão omitidos de forma que , por exemplo, o conjunto das funções contínuas no intervalo fechado $[a, b]$ é idicado por $C[a, b]$. Lembrando que um conjunto é fechado se e somente se contém a sua fronteira, ou seja, o conjunto fechado $[a, b]$ representa o conjunto dos números $x$ taal que $a \\leq x \\leq b$. "
   ]
  },
  {
   "cell_type": "markdown",
   "metadata": {},
   "source": [
    "__Definição 1.3__: Seja $\\{x_n\\}_{n=1}^{\\infty}$ uma sequência infinita de números reais ou complexos. A sequência $\\{x_n\\}_{n=1}^{\\infty}$ tem __limite__ $x$ (__converge para__ $x$) se, para qualquer $\\epsilon > 0$, existe um número inteiro $N(\\epsilon )$ tal que $|x_n - x| < \\epsilon $, sempre que $n > N(\\epsilon )$. A notação utilizada neste caso é\n",
    "\n",
    "$$ \\lim_{n \\rightarrow \\infty} x_n = x, \\ \\  \\text{ ou } \\ \\ x_n \\rightarrow x \\ \\ \\text{ quando } n \\rightarrow \\infty,$$\n",
    "\n",
    "o que significa que a sequência $\\{x_n\\}_{n=1}^{\\infty}$ converge para $x$."
   ]
  },
  {
   "cell_type": "markdown",
   "metadata": {},
   "source": [
    "Os conceitos de convergência e continuidade estão relacionados, como mostra o seguinte teorema.\n",
    "\n",
    "__Teorema 1.4__: Se $f$ é uma função definida em um conjunto $X$ de números reais e $x_0 \\in X$, então as seguintes afirmações são equivalentes: \n",
    "\n",
    "a. $f$ é contínua em $x_0$.\n",
    "\n",
    "b. Se $\\{x_n\\}_{n = 1}^{\\infty}$ é qualquer sequência em $X$ convergente para $x_0$ então $ \\lim_{n \\rightarrow \\infty} f(x_n) = f(x_0)$.\n",
    "\n",
    "As funções que consideraremos ao discutir métodos numéricos são consideradas contínuas, já que este é um requisito mínimo para um comportamento previsível das mesmas. Funções que não são contínuas podem pular pontos de interesse, o que pode dificultar as tentativas de aproximação de uma solução para um determinado problema."
   ]
  },
  {
   "cell_type": "markdown",
   "metadata": {},
   "source": [
    "Suposições mais sofisticadas sobre uma função geralmente levam a melhores resultados de aproximação. Por exemplo, uma função com um gráfico suave e contínuo normalmente se comportará de forma mais previsível do que uma com vários dentes irregulares. A condição de continuidade depende do conceito de derivada.\n",
    "\n",
    "__Definição 1.5__: Seja $f$ uma função definidaem em um intervalo aberto contendo $x_0$. A função $f$ é __diferenciável__ em $x_0$ se\n",
    "\n",
    "$$f'(x_0)=  \\lim_{x \\rightarrow x_0} \\frac{f(x) - f(x_0)}{x -x_0}$$\n",
    "\n",
    "existe. O valor $f'(x_0)$ é chamado de __derivada__ de $f$ em $x_0$. Uma função que tem uma derivada para cada valor do conjunto $X$ é dita __diferenciável__ em $X$.\n",
    "\n",
    "A derivada de $f$ em $x_0$ é o valor da inclinação da linha tangente à curva representativa do gráfico de $f$ no ponto $(x_0, f(x_0))$.\n",
    "\n",
    "![Significao geométrica da derivada](Figuras/Figure_1d2.png)"
   ]
  },
  {
   "cell_type": "markdown",
   "metadata": {},
   "source": [
    "__Teorema 1.6__:Se a função $d$ é diferenciável em $x_0$, então $f$ é contínua em $x_0$.\n",
    "\n",
    "O conjunto de todas as funções que têm $n$ derivadas contínuas em $X$ é denotado $C^n(X)$, e o conjunto de funções que têm derivadas de todas as ordens em $X$ é denotado $C^{\\infty}(X)$. As funções polinomiais, racionais, trigonométricas, exponenciais e logarítmicas estão contidas em $C^{\\infty}(X)$, onde $X$ consiste em todos os números para os quais as funções estão definidas. Quando X é for o intervalo da reta real, novamente omitiremos os parênteses nesta notação."
   ]
  },
  {
   "cell_type": "markdown",
   "metadata": {},
   "source": [
    "Os próximos teoremas são de fundamental importância na derivação de métodos, para estimativa de erros. As provas desses teoremas e os outros resultados não referenciados nesta seção podem ser encontrados em qualquer texto padrão de cálculo.\n",
    "\n",
    "__Teorema 1.7 (Teorema de Rolle)__: Suponha que $f \\in C[a, b]$ e que $f$ seja diferenciável em $(a, b)$. Se $f(a) = f(b)$, então existe um número $c$ em $(a, b)$ para o qual $f'(c) = 0$. \n",
    "\n",
    "![Teorema de Rolle](Figuras/Figure_1d3.png)"
   ]
  },
  {
   "cell_type": "markdown",
   "metadata": {},
   "source": [
    "__Teorema 1.8 (Teorema do Valor Médio)__: Se $f \\in C[a, b]$ e $f$ é diferenciável em $(a, b)$, então existe um número $c$ no intervalo $(a, b)$ tal que\n",
    "\n",
    "$$ f'(c) = \\frac{f(b) - f(a)}{b - a} $$\n",
    "\n",
    "![Teorema do Valor Médio](Figuras/Figure_1d4.png)"
   ]
  },
  {
   "cell_type": "markdown",
   "metadata": {},
   "source": [
    "__Teorema 1.9 (Teorema do Valor Extremo)__: Se $f \\in C[a, b]$, então existe $c_1$ e $c_2 \\in [a, b]$ tais que $f(c_1) \\leq f(x) \\leq f(c_2)$ para todo $x \\in [a, b]$. Adicionalmente, se $f$ é diferenciável em $(a, b)$, então os números $c_1$ e $c_2$ existem tanto nos extremos de $[a, b]$ como onde $f'$ é igual a zero\n",
    "\n",
    "![Teorema do Valor Extremo](Figuras/Figure_1d5.png)"
   ]
  },
  {
   "cell_type": "markdown",
   "metadata": {},
   "source": [
    "__Definição 1.10__: A __integral de Riemann__ da função $f$ no intervalo $[a, b]$ é o seguinte limite, desde que ele exista: \n",
    "\n",
    "$$ \\int_a^b f(x)dx = \\lim_{máx \\Delta x_i \\rightarrow 0} \\sum_{i = 0}^n f(z_i) \\Delta x_i,$$\n",
    "\n",
    "onde os números $x_0, x_1, \\dots, x_n$ sateisfaçam a relação $ a = x_0 \\leq x_1 \\leq \\dots \\leq x_n = b$, e onde $\\Delta x_i = x_i - x_{i-1}$ para cada $i = 1, 2, \\dots, n$ e $z_i$ é escolhido arbitrariamente no intervalo $[x_{i-1}n x_i]$.\n",
    "\n",
    "Toda função contínua $f$ em $[a, b]$ admite a integral de Riemann no intervalo $[a, b]$. Isso nos permite escolher, para maior conveniência do sistema de computação, os pontos $x_i$ de modo que eles estejam espaçados em intervalos iguais em $[a, b]$, e para cada $i = 1, 2, \\dots, n$, escolher $z_i = x_i$. Nesse caso,\n",
    "\n",
    "$$ \\int_a^b f(x)dx = \\lim_{n \\rightarrow \\infty} \\frac{b - a}{n}\\sum_{i = 1}^n f(x_i),$$\n",
    "\n",
    "onde \n",
    "\n",
    "$$x_i = a + i\\frac{b-a}{n}$$\n",
    "\n",
    "![Integral de Riemann](Figuras/Figure_1d6.png)"
   ]
  },
  {
   "cell_type": "markdown",
   "metadata": {},
   "source": [
    "__Teorema 1.11 (Teorema do Valor Médio Ponderado para Integrais)__: Suponha que $f \\in C[a, h]$, a integral de Riemann de $g$ existe em $[a, b]$, e $g(x)$ não muda de sinal em $[a, b]$. Então existe um número $c$ em $(a, b)$ tal que\n",
    "\n",
    "$$ \\int_a^b f(x)g(x)dx = f(c) \\int_a^bg(x)dx.$$\n",
    "^\n",
    "Quando $g(x) = 1$, o Teorema 1.11 é o Teorema do Valor Médio de Integrais. Desta formo a valor médio da função $f$ no intervalo $[a, b]$ é dado por\n",
    "\n",
    "$$ f(c) = \\frac{1}{b - a} \\int_a^b f(x)dx$$\n",
    "\n",
    "![Teorema do Valor Médio de Integrais](Figuras/Figure_1d7.png)"
   ]
  },
  {
   "cell_type": "markdown",
   "metadata": {},
   "source": [
    "__Teorema 1.12 (Teorema de Rolle Generalizado)__: Suponha que $f \\in C[a,b]$ é $n$ vezes diferenciávelem $(a,b)$. Se $f(x)=0$ nos $n+1$ valores distintos $a \\leq x_0 \\leq x_1 \\leq \\dots \\leq x_n \\leq b$, então um número $c$ em $(x_0, x_n)$ e, portanto, em $(a, b)$ existe com $f^{(n)}(c) = 0$."
   ]
  },
  {
   "cell_type": "markdown",
   "metadata": {},
   "source": [
    "__Teorema 1.13 (Teorema do Valor Intermediário)__: Se $f \\in C[a, b]$ e $K$ é qualquer número entre $f(a)$ e $f(b)$, então existe um número $c$ em $(a, b)$ para o qual $f(c) = K.$\n",
    "\n",
    "![Teorema do Valor Intermediário](Figuras/Figura_1d11.png)\n"
   ]
  },
  {
   "cell_type": "markdown",
   "metadata": {},
   "source": [
    "__Teorema 1.14 (Teorema de Taylor)__: Suponha que $f \\in  C^n[a, b], f^{(n+1)}$ existe em $[a, b]$, e $x_0 \\in [a, b]$. Para cada $x \\in [a, b]$, existe um número $\\xi (x)$ entre $x_o$ e $x$ para o qual\n",
    "\n",
    "$$f(x) = P_n(x) + R_n(x).$$\n",
    "\n",
    "onde\n",
    "\n",
    "$$ P_n(x) = f(x_0) + f'(x_0)(x - x_0)+\\frac{f''(x_0)}{2!}(x - x_0)^2 + \\dots + \\frac{f^{(n)}(x_0}{n!} = \\sum_{k=0}^n \\frac{f^{(k)}(x_0)}{k!}(x - x_0)^k$$\n",
    "\n",
    "e\n",
    "\n",
    "$$ R_n(x) = \\frac{f^{(n+1)}(\\xi (x))}{(n+1)!}(x - x_0)^{n+1} $$\n",
    "\n",
    "Aqui $P_n(x)$ é chamado o enésimo __polinômio de Taylor__ para $f$ entorno de $x_0$, e $R_n(x)$ é chamado de __termo residual__ (ou __erro de truncamento__) associado a $P_n(x)$. Como o número $\\xi (x)$ no erro de truncamento $R_n(x)$ depende do valor de $x$ no qual o polinômio $P_n(x)$ está sendo avaliado, ele é uma função da variável $x$. No entanto, não devemos esperar poder determinar explicitamente a função $\\xi (x)$. O Teorema de Taylor simplesmente garante que tal função existe e que seu valor está entre $x$ e $x_0$. De fato, um dos problemas comuns em métodos numéricos é tentar determinar um limite realista para o valor de $f^{(n+i)} (\\xi (x))$ quando $x$ está em algum intervalo especificado.\n",
    "\n",
    "A série infinita obtida tomando o limite de $P_n(x)$ quando $n \\rightarrow \\infty$ é chamada de __série de Taylor__ para $f$ entorno de $x_0$. No caso $x_0 = 0$, o polinômio Taylor é muitas vezes chamado de __polinômio de Maclaurin__, e a série de Taylor é muitas vezes chamada de __série de Maclaurin__.\n",
    "\n",
    "O termo __erro de truncamento__ no polinômio de Taylor refere-se ao erro envolvido no uso de uma soma truncada ou finita para aproximar a soma de uma série infinita."
   ]
  },
  {
   "cell_type": "code",
   "execution_count": null,
   "metadata": {},
   "outputs": [],
   "source": []
  }
 ],
 "metadata": {
  "kernelspec": {
   "display_name": "Python 3 (ipykernel)",
   "language": "python",
   "name": "python3"
  },
  "language_info": {
   "codemirror_mode": {
    "name": "ipython",
    "version": 3
   },
   "file_extension": ".py",
   "mimetype": "text/x-python",
   "name": "python",
   "nbconvert_exporter": "python",
   "pygments_lexer": "ipython3",
   "version": "3.8.12"
  }
 },
 "nbformat": 4,
 "nbformat_minor": 4
}
