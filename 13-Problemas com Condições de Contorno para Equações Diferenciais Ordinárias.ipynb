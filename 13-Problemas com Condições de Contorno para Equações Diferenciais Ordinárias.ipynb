{
 "cells": [
  {
   "cell_type": "markdown",
   "metadata": {},
   "source": [
    "# 13 - Problemas com Condições de Contorno para Equações Diferenciais Ordinárias \n",
    "\n",
    "As equações diferenciais no [Capítulo 7](http://localhost:8888/doc/tree/An%C3%A1lise_Num%C3%A9rica/07-Problemas%20de%20Valor%20Inicial%20para%20Equa%C3%A7%C3%B5es%20Diferenciais%20Ordin%C3%A1rias.ipynb) são de primeira ordem e têm uma condição inicial a ser satisfeita. Posteriormente neste capítulo, vimos que as técnicas podem ser estendidas a sistemas de equações e, em seguida, a equações de ordem superior, mas todas as condições especificadas estão no mesmo ponto extremo, a chamada condição inicial. Esses são problemas de valor inicial. Neste capítulo, mostramos como aproximar a solução de problemas de valores de contorno, equações diferenciais com condições impostas em pontos diferentes. Para equações diferenciais de primeira ordem, apenas uma condição é especificada, portanto, não há distinção entre problemas de valor inicial e de valor de contorno. Estaremos considerando equações de segunda ordem com dois valores de fronteira.\n",
    "\n",
    "Os problemas físicos que dependem da posição em vez do tempo são frequentemente descritos em termos de equações diferenciais com condições impostas em mais de um ponto. Os problemas de condições de contorno abordados neste capítulo envolvem uma equação diferencial de segunda ordem da forma:\n",
    "\n",
    "$$ y'' = f(x, y, y'), a \\leq x \\leq y, $$\n",
    "\n",
    "junto com as condiçõs de contorno \n",
    "\n",
    "$$y(a) = \\alpha, \\text{ e } y(b) = \\beta$$"
   ]
  },
  {
   "cell_type": "markdown",
   "metadata": {},
   "source": [
    "## 13.1 O Método do Disparo Linear\n",
    "\n",
    "O seguinte teorema é fundamental para garantir a existencia e a unisidade da solução de um problema de valores de contorno de sedgunda ordem.\n",
    "\n",
    "__Teorema 13.1__: Suponha que a função $f$  no prblema de valores contorno dado por:\n",
    "\n",
    "$$ y'' = f(x, y, y'), a \\leq x \\leq b, y(a) = \\alpha, \\text{ e } y(b) = \\beta$$\n",
    "\n",
    "seja contínua no conjunto\n",
    "\n",
    "$$ D = \\{(x, y, y')| a \\leq x \\leq b, -\\infty < y < \\infty, -\\infty < y' < \\infty\\},$$\n",
    "\n",
    "e que as derivadas $f_y$ e $f_{y'}$ também sejam contínuas em $D$. Se\n",
    "\n",
    "* $f_y(x, y, y')>0$ para todo $(x, y, y') \\in D$ e\n",
    "* exista uma constante $M$, com\n",
    "\n",
    "$$ |f_{y'}(x, y, y')| \\leq M, \\ \\ \\ \\text{ para todo } \\ \\ \\ (x, y, y') \\in D$$\n",
    "\n",
    "então o problema com valores de contorno tem uma única solução. "
   ]
  },
  {
   "cell_type": "markdown",
   "metadata": {},
   "source": [
    "__Exemplo 1__\n",
    "\n",
    "$$ y''  + e^{-xy} + \\sin(y') = 0, 1 \\leq x \\leq 2, y(1) = y(2) = 0$$\n",
    "\n",
    "Temos então que $f$ é dada por:\n",
    "\n",
    "$$ f(x, y, y') = - e^{-xy} - \\sin(y') $$\n",
    "\n",
    "Temos que:\n",
    "\n",
    "$$f_y(x, y, y') = xe^{-xy} > 0$$\n",
    "\n",
    "$$|f_{y'}(x, y, y')| = |-\\cos(y')| \\leq 1$$\n",
    "\n",
    "Então o problema tem soloção é é única. "
   ]
  },
  {
   "cell_type": "markdown",
   "metadata": {},
   "source": [
    "Quando $f(x, y, y')$ tem a forma\n",
    "\n",
    "$$ f(x, y, y') = p(x)y' + q(x)y + r(x),$$\n",
    "\n",
    "a equação diferencial\n",
    "\n",
    "$$y''=f(x, y, y')$$\n",
    "\n",
    "é uma equação __linear__. Nesses casos, que podem ser encontrado com fasilidade, o __Teorema 13.1__ pode ser simplificado.\n",
    "\n",
    "\n",
    "__Corolario 13.2__: Se o problema linear com valores de contorne \n",
    "\n",
    "$$ y'' = p(x)y' + q(x)y + r(x), a \\leq x \\leq y, y(a) = \\alpha, \\text{ e } y(b) = \\beta$$\n",
    "\n",
    "satisfaz\n",
    "\n",
    "* $p(x), q(x) \\text{ e } r(x)$ são contínuas em $[a, b]$,\n",
    "* $q(x) > 0$ em $[a, b]$,\n",
    "\n",
    "Então o problema tem solução única."
   ]
  },
  {
   "cell_type": "markdown",
   "metadata": {},
   "source": [
    "Para aproximar a solução única para este problema linear, primeiro consideramos os problemas de valor inicial\n",
    "\n",
    "$$ y'' = p(x)y' + q(x)y + r(x), a \\leq x \\leq y, y(a) = \\alpha, \\text{ e } y'(a) = 0 \\text{(*)} $$\n",
    "\n",
    "e \n",
    "\n",
    "$$ y'' = p(x)y' + q(x)y, a \\leq x \\leq y, y(a) = 0, \\text{ e } y'(a) = 1 \\text{(**)}$$\n",
    "\n",
    "Os terorenas do [Capítulo-07](http://localhost:8888/doc/tree/An%C3%A1lise_Num%C3%A9rica/07-Problemas%20de%20Valor%20Inicial%20para%20Equa%C3%A7%C3%B5es%20Diferenciais%20Ordin%C3%A1rias.ipynb)  garantem que, segundo o __Corolarioa 13.2__ ambos o problemas tem uma solução única. Se $y_1(x)$ denota a solução de (\\*) e $y_2(x)$ indica a solução de (\\*\\*), pode-se comprovar de forma simples que\n",
    "\n",
    "$$y(x) = y_1(x) + \\frac{\\beta - y_1(b)}{y_2(b)}y_2(x).$$\n",
    "\n",
    "\n",
    "Então:\n",
    "\n",
    "$$y'(x) = y_1'(x) + \\frac{\\beta - y_1(b)}{y_2(b)}y'_2(x).$$\n",
    "\n",
    "e\n",
    "\n",
    "$$y''(x) = y_1''(x) + \\frac{\\beta - y_1(b)}{y_2(b)}y''_2(x).$$\n",
    "\n",
    "$$ y''(x) = p(x)y'_1 + q(x)y_1 + r(x) + \\frac{\\beta - y_1(b)}{y_2(b)} (p(x)y'_2 + q(x)y_2)$$\n",
    "\n",
    "$$ y''(x) = p(x) \\left( y'_1 + \\frac{\\beta - y_1(b)}{y_2(b)}y'_2 \\right) + q(x) \\left(y_1 + \\frac{\\beta - y_1(b)}{y_2(b)} y_2\\right) + r(x)$$\n",
    "\n",
    "$$ y''(x) = p(x) y'(x) + q(x) y(x) + r(x) $$ \n",
    "\n",
    "$$ y''(x) = y''(x)$$\n",
    "\n",
    "Além disso,\n",
    "\n",
    "$$y(a) = y_1(a) + \\frac{\\beta - y_1(b)}{y_2(b)}y_2(a),$$\n",
    "\n",
    "o que, pelas condições impostas em (\\*) leva a\n",
    "\n",
    "$$y(a) = \\alpha + \\frac{\\beta - y_1(b)}{y_2(b)} \\dot 0 = \\alpha$$\n",
    "\n",
    "Por outro lado\n",
    "\n",
    "$$y(b) = y_1(b) + \\frac{\\beta - y_1(b)}{y_2(b)}y_2(b),$$\n",
    "\n",
    "o que leva a\n",
    "\n",
    "$$y(b) = y_1(b) + \\beta - y_1(b) = \\beta.$$\n",
    "\n",
    "Sendo assim, $y(x)$ é a única solução do problema com condições de contorno. No [Capítulo-07](http://localhost:8888/doc/tree/An%C3%A1lise_Num%C3%A9rica/07-Problemas%20de%20Valor%20Inicial%20para%20Equa%C3%A7%C3%B5es%20Diferenciais%20Ordin%C3%A1rias.ipynb) foram descritos diversos métodos com os quais se podem aproximar as soluções para $y_1(x)$ e $y_2(x)$"
   ]
  },
  {
   "cell_type": "markdown",
   "metadata": {},
   "source": [
    "__Exemplo 2__: O problema de valor de contorno dado por\n",
    "\n",
    "$$ y'' = -\\frac{2}{x}y' + \\frac{2}{x^2}y + \\frac{\\sin(\\ln(x)}{x^2}, \\ \\ \\ 1 \\leq x \\leq 2, y(1) = 1, y(2) = 2$$ \n",
    "\n",
    "Tem solução exata dada por\n",
    "\n",
    "$$ y = c_1x + \\frac{c_2}{x^2} - \\frac{3}{10}\\sin(\\ln(x)) - \\frac{1}{10}\\cos(\\ln(x))$$\n",
    "\n",
    "onde\n",
    "\n",
    "$$ c_2 = \\frac{1}{70}[8 - 12 \\sin(\\ln(2)) - 4 \\cos(\\ln(2))] \\approx -0.03920701320$$\n",
    "\n",
    "e \n",
    "\n",
    "$$ c_1 = \\frac{11}{10} - c_2 \\approx 1.1392070132$$\n"
   ]
  },
  {
   "cell_type": "markdown",
   "metadata": {},
   "source": [
    "__Resposta__: Teremos os seguintes problema de valor inicial \n",
    "\n",
    "$$ y'' = -\\frac{2}{x}y' + \\frac{2}{x^2}y + \\frac{\\sin(\\ln(x)}{x^2}, \\ \\ \\ 1 \\leq x \\leq 2, y(1) = 1, y'(1) = 0 $$\n",
    "\n",
    "$$ y'' = -\\frac{2}{x}y' + \\frac{2}{x^2}y, \\ \\ \\ 1 \\leq x \\leq 2, y(1) = 0, y'(1) = 1$$\n",
    "\n",
    "Definimos então o SE para $y_1$ dado por\n",
    "\n",
    "$$ y'_1 = z_1 $$\n",
    "\n",
    "$$ z'_1 = -\\frac{2}{x}z_1 + \\frac{2}{x^2}y_1 + \\frac{\\sin(\\ln(x)}{x^2} $$\n",
    "\n",
    "$$ 1 \\leq x \\leq 2, y_1(1) = 1, z_1(1) = 0 $$\n",
    "\n",
    "e o SE para $y_2$ dado por\n",
    "\n",
    "$$ y'_2 = z_2 $$\n",
    "\n",
    "$$ z'_2 = -\\frac{2}{x}z_2 + \\frac{2}{x^2}y_2 $$\n",
    "\n",
    "$$ 1 \\leq x \\leq 2, y_2(0) = 1, z_2(1) = 1 $$\n"
   ]
  },
  {
   "cell_type": "code",
   "execution_count": 1,
   "metadata": {},
   "outputs": [
    {
     "name": "stdout",
     "output_type": "stream",
     "text": [
      "1.21.4\n"
     ]
    }
   ],
   "source": [
    "import numpy as np\n",
    "print(np.__version__)"
   ]
  },
  {
   "cell_type": "code",
   "execution_count": 2,
   "metadata": {},
   "outputs": [],
   "source": [
    "import matplotlib.pyplot as plt"
   ]
  },
  {
   "cell_type": "code",
   "execution_count": 3,
   "metadata": {},
   "outputs": [],
   "source": [
    "plt.style.use('classic')\n",
    "%matplotlib widget"
   ]
  },
  {
   "cell_type": "code",
   "execution_count": 4,
   "metadata": {},
   "outputs": [],
   "source": [
    "def fy1(x,y):\n",
    "    fy = np.zeros_like(y)\n",
    "    fy[0] = y[1]\n",
    "    fy[1] = -2*y[1]/x + 2*y[0]/x**2 + np.sin(np.log(x))/x**2\n",
    "    return fy\n",
    "\n",
    "def fy2(x,y):\n",
    "    fy = np.zeros_like(y)\n",
    "    fy[0] = y[1]\n",
    "    fy[1] = -2*y[1]/x + 2*y[0]/x**2\n",
    "    return fy\n",
    "\n",
    "y10 = np.zeros(2)\n",
    "y20 = np.zeros(2)\n",
    "y10[0] = 1\n",
    "y10[1] = 0\n",
    "y20[0] = 0\n",
    "y20[1] = 1"
   ]
  },
  {
   "cell_type": "code",
   "execution_count": 5,
   "metadata": {},
   "outputs": [],
   "source": [
    "def metRK4_SE(f, a, b, N, y0):\n",
    "    # Método de Runge-Kutta de ordem 4 para sistemas de equações\n",
    "    # de primeira ordem\n",
    "    # Permite aproximar a solução do problema de valor inicial\n",
    "    # em N+1 pontos uniformemente espaçados no intervalo fechado [a, b]\n",
    "    # Entrada: f(t,y), o intervalo [a, b], N, y0 condição inicial\n",
    "    # Saida: a aproximação w_i da fdunção y(t_i) para os N+1 pontos\n",
    "    # Passo 1 Faça h = (b - a) / N\n",
    "    h = (b - a)/N\n",
    "    t = np.linspace(a, b, N+1)  #equivalente a -> t = np.arange(a, b, h)\n",
    "    nEq = len(y0) # determina a quantidade de equações\n",
    "    # Criando uma matriz que tem nEq linhas e N+a colunas para as \n",
    "    # aproximações. Cada linha é uma variável depndente e cada coluna\n",
    "    # corresponde a um t_i com i = 0, 1, ..., N e t_0 = 1, t_N=B \n",
    "    w = np.zeros((nEq, N+1))\n",
    "    # Atribuíndo os valores da condição inicial para todos os elementos \n",
    "    # da coluna zero (t_0). Lembrando que o slice(:) sem argumentos \n",
    "    # equivale a 0:nEq, ou seja, para todas as i linhas tais que\n",
    "    # 0 <= i < nEq. A variável y0 tem que ser um array com nEq elementos\n",
    "    w[:,0] = y0;\n",
    "    # SAIDA (t, w)\n",
    "    # Passo 2 Para i = 0, 1, 2,..., N-1 fazer \n",
    "    h12 = h*0.5 # h/2\n",
    "    # Para cada variável se tem um j1, k2, k3 e k4 são criados como\n",
    "    k1 = np.zeros(nEq) # arrays de tamanho nEq e inicialmente zerados\n",
    "    k2 = np.zeros(nEq)\n",
    "    k3 = np.zeros(nEq)\n",
    "    k4 = np.zeros(nEq)\n",
    "    for i in range(N):\n",
    "        #Passo 3 w = w + hf(t, w)\n",
    "        # calculando cada um dos k1\n",
    "        k1 = h*f(t[i], w[:,i])\n",
    "        # calculando cada um dos k2\n",
    "        k2 = h*f(t[i]+h12, w[:,i] + 0.5*k1)\n",
    "        # calculando cada um dos k3\n",
    "        k3 = h*f(t[i]+h12, w[:,i] + 0.5*k2)\n",
    "        # calculando cada um dos k4\n",
    "        k4 = h*f(t[i+1], w[:,i] + k3)\n",
    "        # Calculando a aproximação para t_i+1 \n",
    "        w[:,i+1] = w[:,i] + (k1 + 2*k2 + 2*k3 + k4)/6\n",
    "    return (t, w)"
   ]
  },
  {
   "cell_type": "code",
   "execution_count": 6,
   "metadata": {},
   "outputs": [],
   "source": [
    "(x, y1) = metRK4_SE(fy1, 1, 2, 10, y10)\n",
    "(x, y2) = metRK4_SE(fy2, 1, 2, 10, y20)"
   ]
  },
  {
   "cell_type": "code",
   "execution_count": 7,
   "metadata": {},
   "outputs": [],
   "source": [
    "def solana(x):\n",
    "    c_1 = 1.1392070132\n",
    "    c_2 = -0.03920701320\n",
    "    return c_1*x + (c_2/x**2) - 0.3*np.sin(np.log(x)) - 0.1*np.cos(np.log(x))"
   ]
  },
  {
   "cell_type": "code",
   "execution_count": 8,
   "metadata": {},
   "outputs": [
    {
     "name": "stdout",
     "output_type": "stream",
     "text": [
      "x_i \t u_1,i \t\t u_2,i \t\t w_i \t\t y(x_i) \t |y(x_i) - w_i|\n",
      "1.0 \t 1.0000000 \t 0.0000000 \t 1.0000000 \t 1.0000000 \t 0.0000000\n",
      "1.1 \t 1.0089606 \t 0.0911799 \t 1.0926292 \t 1.0926293 \t 0.0000001\n",
      "1.2 \t 1.0324547 \t 0.1685117 \t 1.1870847 \t 1.1870848 \t 0.0000001\n",
      "1.3 \t 1.0667437 \t 0.2360870 \t 1.2833823 \t 1.2833824 \t 0.0000001\n",
      "1.4 \t 1.1092879 \t 0.2965907 \t 1.3814459 \t 1.3814460 \t 0.0000001\n",
      "1.5 \t 1.1583000 \t 0.3518438 \t 1.4811594 \t 1.4811594 \t 0.0000000\n",
      "1.6 \t 1.2124837 \t 0.4031169 \t 1.5823924 \t 1.5823925 \t 0.0000000\n",
      "1.7 \t 1.2708745 \t 0.4513184 \t 1.6850140 \t 1.6850140 \t 0.0000000\n",
      "1.8 \t 1.3327385 \t 0.4971114 \t 1.7888985 \t 1.7888985 \t 0.0000000\n",
      "1.9 \t 1.3975062 \t 0.5409893 \t 1.8939295 \t 1.8939295 \t 0.0000000\n",
      "2.0 \t 1.4647281 \t 0.5833254 \t 2.0000000 \t 2.0000000 \t 0.0000000\n"
     ]
    }
   ],
   "source": [
    "y_N = 2\n",
    "w = y1[0] + ((y_N - y1[0,-1])/y2[0,-1])*y2[0]\n",
    "y = solana(x)\n",
    "print(\"x_i \\t u_1,i \\t\\t u_2,i \\t\\t w_i \\t\\t y(x_i) \\t |y(x_i) - w_i|\")\n",
    "for i in range (len(x)):\n",
    "    print(\"{:.1f} \\t {:.7f} \\t {:.7f} \\t {:.7f} \\t {:.7f} \\t {:.7f}\".format(x[i], y1[0,i], y2[0,i], w[i], y[i], np.abs(y[i]-w[i])))"
   ]
  },
  {
   "cell_type": "code",
   "execution_count": 9,
   "metadata": {},
   "outputs": [
    {
     "data": {
      "text/plain": [
       "<matplotlib.legend.Legend at 0x12cf72d90>"
      ]
     },
     "execution_count": 9,
     "metadata": {},
     "output_type": "execute_result"
    },
    {
     "data": {
      "application/vnd.jupyter.widget-view+json": {
       "model_id": "1e926d5e14154e81bf6127df7e3737c2",
       "version_major": 2,
       "version_minor": 0
      },
      "text/html": [
       "\n",
       "            <div style=\"display: inline-block;\">\n",
       "                <div class=\"jupyter-widgets widget-label\" style=\"text-align: center;\">\n",
       "                    Figure\n",
       "                </div>\n",
       "                <img src='data:image/png;base64,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' width=640.0/>\n",
       "            </div>\n",
       "        "
      ],
      "text/plain": [
       "Canvas(toolbar=Toolbar(toolitems=[('Home', 'Reset original view', 'home', 'home'), ('Back', 'Back to previous …"
      ]
     },
     "metadata": {},
     "output_type": "display_data"
    }
   ],
   "source": [
    "fig, ax = plt.subplots(1,2)\n",
    "ax[0].plot(x, y1[0,:], label='$u_1(x)$')\n",
    "ax[0].plot(x, y2[0,:], label='$u_2(x)$')\n",
    "ax[0].plot(x, w, label='$w(x) = u_1(x) + \\delta y_2(x)$')\n",
    "ax[0].legend(loc='upper left', frameon=False)\n",
    "ax[1].plot(x, y, label='$y(x)$')\n",
    "ax[1].plot(x, w, label='$w(x) = u_1(x) + \\delta y_2(x)$')\n",
    "ax[1].legend(loc='upper left', frameon=False)"
   ]
  },
  {
   "cell_type": "code",
   "execution_count": null,
   "metadata": {},
   "outputs": [],
   "source": []
  }
 ],
 "metadata": {
  "kernelspec": {
   "display_name": "Python 3 (ipykernel)",
   "language": "python",
   "name": "python3"
  },
  "language_info": {
   "codemirror_mode": {
    "name": "ipython",
    "version": 3
   },
   "file_extension": ".py",
   "mimetype": "text/x-python",
   "name": "python",
   "nbconvert_exporter": "python",
   "pygments_lexer": "ipython3",
   "version": "3.9.8"
  }
 },
 "nbformat": 4,
 "nbformat_minor": 4
}
